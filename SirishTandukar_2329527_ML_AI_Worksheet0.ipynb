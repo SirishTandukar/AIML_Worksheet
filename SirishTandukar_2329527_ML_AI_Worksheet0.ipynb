{
  "nbformat": 4,
  "nbformat_minor": 0,
  "metadata": {
    "colab": {
      "provenance": []
    },
    "kernelspec": {
      "name": "python3",
      "display_name": "Python 3"
    },
    "language_info": {
      "name": "python"
    }
  },
  "cells": [
    {
      "cell_type": "markdown",
      "source": [
        "\n",
        "# Worksheet 0\n",
        "\n",
        "*   Name: Sirish Tandukar (2329527)\n",
        "*   Group: L6CG7\n",
        "\n",
        "\n"
      ],
      "metadata": {
        "id": "Pb13gm3xTZDj"
      }
    },
    {
      "cell_type": "markdown",
      "source": [
        "# 1. Exercise on Functions"
      ],
      "metadata": {
        "id": "1rO7HIJC6rNL"
      }
    },
    {
      "cell_type": "markdown",
      "source": [
        "Task - 1:\n",
        "Create a Python program that converts between different units of measurement."
      ],
      "metadata": {
        "id": "hJieR2Os6wdD"
      }
    },
    {
      "cell_type": "code",
      "source": [
        "def unit_converter(value, source_unit, target_unit):\n",
        "    \"\"\"\n",
        "    Converts a value from one unit to another.\n",
        "\n",
        "    Parameters:\n",
        "    value (float)\n",
        "    source_unit (str)\n",
        "    target_unit (str)\n",
        "\n",
        "    Returns:\n",
        "    float is the converted value.\n",
        "    \"\"\"\n",
        "    #Length conversions\n",
        "    if source_unit == \"m\" and target_unit == \"ft\":\n",
        "        return value * 3.28084\n",
        "    elif source_unit == \"ft\" and target_unit == \"m\":\n",
        "        return value / 3.28084\n",
        "    #Weight conversions\n",
        "    elif source_unit == \"kg\" and target_unit == \"lbs\":\n",
        "        return value * 2.20462\n",
        "    elif source_unit == \"lbs\" and target_unit == \"kg\":\n",
        "        return value / 2.20462\n",
        "    #Volume conversions\n",
        "    elif source_unit == \"L\" and target_unit == \"gal\":\n",
        "        return value * 0.264172\n",
        "    elif source_unit == \"gal\" and target_unit == \"L\":\n",
        "        return value / 0.264172\n",
        "    else:\n",
        "        raise ValueError(\"Conversion not supported. Check your units.\")\n",
        "\n",
        "def main():\n",
        "    #Introduction to the program\n",
        "    print(\"Welcome to the Unit Converter!\")\n",
        "    print(\"Supported conversions include:\")\n",
        "    print(\"1. Length: meters (m) to feet (ft) and vice versa\")\n",
        "    print(\"2. Weight: kilograms (kg) to pounds (lbs) and vice versa\")\n",
        "    print(\"3. Volume: liters (L) to gallons (gal) and vice versa\")\n",
        "\n",
        "    try:\n",
        "        #Prompt user for conversion category\n",
        "        category = input(\"Enter the conversion category (length, weight, volume): \").strip().lower()\n",
        "        if category not in [\"length\", \"weight\", \"volume\"]:\n",
        "            print(\"Error: Unsupported conversion category.\")\n",
        "            return\n",
        "\n",
        "        #Prompt user for the numeric value to convert\n",
        "        amount = float(input(\"Enter the value to convert: \"))\n",
        "\n",
        "        #Prompt user for source and target units based on the category\n",
        "        if category == \"length\":\n",
        "            source_unit = input(\"Convert from (m/ft): \").strip().lower()\n",
        "            target_unit = input(\"Convert to (m/ft): \").strip().lower()\n",
        "        elif category == \"weight\":\n",
        "            source_unit = input(\"Convert from (kg/lbs): \").strip().lower()\n",
        "            target_unit = input(\"Convert to (kg/lbs): \").strip().lower()\n",
        "        elif category == \"volume\":\n",
        "            source_unit = input(\"Convert from (L/gal): \").strip().lower()\n",
        "            target_unit = input(\"Convert to (L/gal): \").strip().lower()\n",
        "\n",
        "        #Perform the unit conversion\n",
        "        result = unit_converter(amount, source_unit, target_unit)\n",
        "\n",
        "        #Display the conversion result\n",
        "        print(f\"{amount} {source_unit} is equal to {result:.2f} {target_unit}.\")\n",
        "\n",
        "    except ValueError as error:\n",
        "        print(f\"Error: {error}\")\n",
        "    except Exception as unexpected_error:\n",
        "        print(f\"An unexpected error occurred: {unexpected_error}\")\n",
        "\n",
        "if __name__ == \"__main__\":\n",
        "    main()\n"
      ],
      "metadata": {
        "colab": {
          "base_uri": "https://localhost:8080/"
        },
        "id": "6UsInz9262Kb",
        "outputId": "bdc704cf-cf92-4f8c-baf3-56fa53f0109b"
      },
      "execution_count": null,
      "outputs": [
        {
          "output_type": "stream",
          "name": "stdout",
          "text": [
            "Welcome to the Unit Converter!\n",
            "Supported conversions include:\n",
            "1. Length: meters (m) to feet (ft) and vice versa\n",
            "2. Weight: kilograms (kg) to pounds (lbs) and vice versa\n",
            "3. Volume: liters (L) to gallons (gal) and vice versa\n",
            "Enter the conversion category (length, weight, volume): weight\n",
            "Enter the value to convert: 67\n",
            "Convert from (kg/lbs): kg\n",
            "Convert to (kg/lbs): lbs\n",
            "67.0 kg is equal to 147.71 lbs.\n"
          ]
        }
      ]
    },
    {
      "cell_type": "markdown",
      "source": [
        "Task - 2:\n",
        "Create a Python program that performs various mathematical operations on a list of numbers."
      ],
      "metadata": {
        "id": "hGgJ-Btt8pY5"
      }
    },
    {
      "cell_type": "code",
      "source": [
        "def calculate_sum(numbers):\n",
        "    \"\"\"\n",
        "    Calculates the sum of a list of numbers.\n",
        "\n",
        "    Parameters:\n",
        "    numbers which is the list of numbers.\n",
        "\n",
        "    Returns:\n",
        "    float is the sum of the numbers.\n",
        "    \"\"\"\n",
        "    return sum(numbers)\n",
        "\n",
        "def calculate_average(numbers):\n",
        "    \"\"\"\n",
        "    Calculates the average of a list of numbers.\n",
        "\n",
        "    Parameters:\n",
        "    numbers is the list of numbers.\n",
        "\n",
        "    Returns:\n",
        "    float is the average of the numbers.\n",
        "    \"\"\"\n",
        "    return sum(numbers) / len(numbers)\n",
        "\n",
        "def find_maximum(numbers):\n",
        "    \"\"\"\n",
        "    Finds the maximum value in a list of numbers.\n",
        "\n",
        "    Parameters:\n",
        "    numbers is the list of numbers.\n",
        "\n",
        "    Returns:\n",
        "    float is the maximum value in the list.\n",
        "    \"\"\"\n",
        "    return max(numbers)\n",
        "\n",
        "def find_minimum(numbers):\n",
        "    \"\"\"\n",
        "    Finds the minimum value in a list of numbers.\n",
        "\n",
        "    Parameters:\n",
        "    numbers is the list of numbers.\n",
        "\n",
        "    Returns:\n",
        "    float is the minimum value in the list.\n",
        "    \"\"\"\n",
        "    return min(numbers)\n",
        "\n",
        "def main():\n",
        "    print(\"Mathematical Operations on a List of Numbers\")\n",
        "    print(\"Choose an operation:\")\n",
        "    print(\"1. Sum of numbers\")\n",
        "    print(\"2. Average of numbers\")\n",
        "    print(\"3. Maximum value\")\n",
        "    print(\"4. Minimum value\")\n",
        "\n",
        "    try:\n",
        "        choice = int(input(\"Enter the number corresponding to the operation (1-4): \"))\n",
        "        if choice not in [1, 2, 3, 4]:\n",
        "            print(\"Invalid choice! Please choose a number between 1 and 4.\")\n",
        "            return\n",
        "\n",
        "        numbers_input = input(\"Enter a list of numbers separated by spaces: \")\n",
        "        numbers = [float(x) for x in numbers_input.split()]\n",
        "\n",
        "        if not numbers:\n",
        "            print(\"Error: The list of numbers is empty. Please provide valid input.\")\n",
        "            return\n",
        "        if choice == 1:\n",
        "            result = calculate_sum(numbers)\n",
        "            print(f\"The sum of the numbers is: {result:.2f}\")\n",
        "        elif choice == 2:\n",
        "            result = calculate_average(numbers)\n",
        "            print(f\"The average of the numbers is: {result:.2f}\")\n",
        "        elif choice == 3:\n",
        "            result = find_maximum(numbers)\n",
        "            print(f\"The maximum value in the list is: {result:.2f}\")\n",
        "        elif choice == 4:\n",
        "            result = find_minimum(numbers)\n",
        "            print(f\"The minimum value in the list is: {result:.2f}\")\n",
        "\n",
        "    except ValueError:\n",
        "        print(\"Error: Invalid input. Please ensure you enter numeric values.\")\n",
        "\n",
        "if __name__ == \"__main__\":\n",
        "    main()\n"
      ],
      "metadata": {
        "colab": {
          "base_uri": "https://localhost:8080/"
        },
        "id": "slbq_ZeA8p-S",
        "outputId": "24771753-3432-4210-c1f8-7b2cd97698cf"
      },
      "execution_count": null,
      "outputs": [
        {
          "output_type": "stream",
          "name": "stdout",
          "text": [
            "Mathematical Operations on a List of Numbers\n",
            "Choose an operation:\n",
            "1. Sum of numbers\n",
            "2. Average of numbers\n",
            "3. Maximum value\n",
            "4. Minimum value\n",
            "Enter the number corresponding to the operation (1-4): 1\n",
            "Enter a list of numbers separated by spaces: 23 9\n",
            "The sum of the numbers is: 32.00\n"
          ]
        }
      ]
    },
    {
      "cell_type": "markdown",
      "source": [
        "# 2. Exercise on List Manipulation"
      ],
      "metadata": {
        "id": "ejx5IqBP9G88"
      }
    },
    {
      "cell_type": "markdown",
      "source": [
        "1. Extract Every Other Element:\n",
        "Write a Python function that extracts every other element from a list, starting from the first element."
      ],
      "metadata": {
        "id": "RMY6DHD-9NIU"
      }
    },
    {
      "cell_type": "code",
      "source": [
        "def extract_every_other(lst):\n",
        "    \"\"\"\n",
        "    Extracts every other element from a list, starting from the first element.\n",
        "\n",
        "    Parameters:\n",
        "    lst is the input list from which every other element will be extracted.\n",
        "\n",
        "    Returns:\n",
        "    A new list containing every other element from the original list.\n",
        "    \"\"\"\n",
        "    return lst[::2]\n",
        "\n",
        "input_list = [1, 2, 3, 4, 5, 6]\n",
        "output_list = extract_every_other(input_list)\n",
        "print(\"Original list:\", input_list)\n",
        "print(\"Extracted list (every other element):\", output_list)\n"
      ],
      "metadata": {
        "colab": {
          "base_uri": "https://localhost:8080/"
        },
        "id": "nQE1lLr09JQs",
        "outputId": "d3323dee-f5de-48ac-cd42-a6db1666af14"
      },
      "execution_count": null,
      "outputs": [
        {
          "output_type": "stream",
          "name": "stdout",
          "text": [
            "Original list: [1, 2, 3, 4, 5, 6]\n",
            "Extracted list (every other element): [1, 3, 5]\n"
          ]
        }
      ]
    },
    {
      "cell_type": "markdown",
      "source": [
        "2. Slice a Sublist:\n",
        "Write a Python function that returns a sublist from a given list, starting from a specified index and\n",
        "ending at another specified index."
      ],
      "metadata": {
        "id": "XjUiSi8O9eXW"
      }
    },
    {
      "cell_type": "code",
      "source": [
        "def get_sublist(lst, start, end):\n",
        "    \"\"\"\n",
        "    The function returns a sublist from the given list, starting from the specified index and ending at the specified index (inclusive).\n",
        "\n",
        "    Parameters:\n",
        "    lst (list): The original list.\n",
        "    start (int): The starting index for the sublist.\n",
        "    end (int): The ending index for the sublist.\n",
        "\n",
        "    Returns:\n",
        "    list in the sublist from start to end (inclusive).\n",
        "    \"\"\"\n",
        "    return lst[start:end+1]\n",
        "\n",
        "input_list = [1, 2, 3, 4, 5, 6]\n",
        "start_index = 2\n",
        "end_index = 4\n",
        "output_sublist = get_sublist(input_list, start_index, end_index)\n",
        "\n",
        "print(\"Original list:\", input_list)\n",
        "print(f\"Sublist from index {start_index} to {end_index} (inclusive):\", output_sublist)\n"
      ],
      "metadata": {
        "colab": {
          "base_uri": "https://localhost:8080/"
        },
        "id": "afxsZffp9e1O",
        "outputId": "ce3fdaf9-be4a-426f-f372-dab32fffc03d"
      },
      "execution_count": null,
      "outputs": [
        {
          "output_type": "stream",
          "name": "stdout",
          "text": [
            "Original list: [1, 2, 3, 4, 5, 6]\n",
            "Sublist from index 2 to 4 (inclusive): [3, 4, 5]\n"
          ]
        }
      ]
    },
    {
      "cell_type": "markdown",
      "source": [
        "3. Reverse a List Using Slicing:\n",
        "Write a Python function that reverses a list using slicing."
      ],
      "metadata": {
        "id": "qhxD8Vx29x6Z"
      }
    },
    {
      "cell_type": "code",
      "source": [
        "def reverse_list(lst):\n",
        "    \"\"\"\n",
        "    The function reverses a list using slicing.\n",
        "\n",
        "    Parameters:\n",
        "    lst is the list to be reversed.\n",
        "\n",
        "    Returns:\n",
        "    list is the reversed list.\n",
        "    \"\"\"\n",
        "    return lst[::-1]\n",
        "\n",
        "input_list = [1, 2, 3, 4, 5]\n",
        "reversed_list = reverse_list(input_list)\n",
        "\n",
        "print(\"Original list:\", input_list)\n",
        "print(\"Reversed list:\", reversed_list)\n"
      ],
      "metadata": {
        "colab": {
          "base_uri": "https://localhost:8080/"
        },
        "id": "KbNMk3FT9yMw",
        "outputId": "ff44cf42-cf25-472b-8c35-f2160dca7b97"
      },
      "execution_count": null,
      "outputs": [
        {
          "output_type": "stream",
          "name": "stdout",
          "text": [
            "Original list: [1, 2, 3, 4, 5]\n",
            "Reversed list: [5, 4, 3, 2, 1]\n"
          ]
        }
      ]
    },
    {
      "cell_type": "markdown",
      "source": [
        "4. Remove the First and Last Elements:\n",
        "Write a Python function that removes the first and last elements of a list and returns the resulting\n",
        "sublist."
      ],
      "metadata": {
        "id": "0uragG3g-NOT"
      }
    },
    {
      "cell_type": "code",
      "source": [
        "def remove_first_last(lst):\n",
        "    \"\"\"\n",
        "    Removes the first and last elements of a list and returns the resulting sublist.\n",
        "\n",
        "    Parameters:\n",
        "    lst is the input list from which the first and last elements will be removed.\n",
        "\n",
        "    Returns:\n",
        "    list is a new list without the first and last elements.\n",
        "    \"\"\"\n",
        "    return lst[1:-1]\n",
        "input_list = [1, 2, 3, 4, 5]\n",
        "resulting_list = remove_first_last(input_list)\n",
        "\n",
        "print(\"Original list:\", input_list)\n",
        "print(\"List after removing first and last elements:\", resulting_list)\n"
      ],
      "metadata": {
        "colab": {
          "base_uri": "https://localhost:8080/"
        },
        "id": "C9QJJE1h-Nmc",
        "outputId": "0c3e5f67-1dfd-44bb-94cc-e55a1284a19f"
      },
      "execution_count": null,
      "outputs": [
        {
          "output_type": "stream",
          "name": "stdout",
          "text": [
            "Original list: [1, 2, 3, 4, 5]\n",
            "List after removing first and last elements: [2, 3, 4]\n"
          ]
        }
      ]
    },
    {
      "cell_type": "markdown",
      "source": [
        "5. Get the First n Elements:\n",
        "Write a Python function that extracts the first n elements from a list."
      ],
      "metadata": {
        "id": "Z_ugaguE-U1M"
      }
    },
    {
      "cell_type": "code",
      "source": [
        "def get_first_n(lst, n):\n",
        "    \"\"\"\n",
        "    Extracts the first n elements from a list.\n",
        "\n",
        "    Parameters:\n",
        "    lst is the input list from which the elements will be extracted.\n",
        "    The number of elements to extract.\n",
        "\n",
        "    Returns:\n",
        "    list is a new list containing the first n elements of the input list.\n",
        "    \"\"\"\n",
        "    return lst[:n]\n",
        "\n",
        "input_list = [1, 2, 3, 4, 5]\n",
        "n = 3\n",
        "output_list = get_first_n(input_list, n)\n",
        "\n",
        "print(\"Original list:\", input_list)\n",
        "print(f\"The first {n} elements of the list are:\", output_list)\n"
      ],
      "metadata": {
        "colab": {
          "base_uri": "https://localhost:8080/"
        },
        "id": "vT9ROsn3-VTk",
        "outputId": "b9fd28a9-5518-4134-c9ed-c19ef0e75936"
      },
      "execution_count": null,
      "outputs": [
        {
          "output_type": "stream",
          "name": "stdout",
          "text": [
            "Original list: [1, 2, 3, 4, 5]\n",
            "The first 3 elements of the list are: [1, 2, 3]\n"
          ]
        }
      ]
    },
    {
      "cell_type": "markdown",
      "source": [
        "6. Extract Elements from the End:\n",
        "Write a Python function that extracts the last n elements of a list using slicing."
      ],
      "metadata": {
        "id": "YFXKBq5UGL0M"
      }
    },
    {
      "cell_type": "code",
      "source": [
        "def get_last_n(lst, n):\n",
        "    \"\"\"\n",
        "    Extracts the last n elements from a list.\n",
        "\n",
        "    Parameters:\n",
        "    lst is the input list from which the elements will be extracted.\n",
        "    n is the number of elements to extract from the end.\n",
        "\n",
        "    Returns:\n",
        "    list is a new list containing the last n elements of the input list.\n",
        "    \"\"\"\n",
        "    return lst[-n:]\n",
        "\n",
        "input_list = [1, 2, 3, 4, 5]\n",
        "n = 2\n",
        "output_list = get_last_n(input_list, n)\n",
        "\n",
        "print(\"Original list:\", input_list)\n",
        "print(f\"The last {n} elements of the list are:\", output_list)\n"
      ],
      "metadata": {
        "colab": {
          "base_uri": "https://localhost:8080/"
        },
        "id": "zxYWIrr3GMIb",
        "outputId": "877ff3ab-06e7-4569-ccc0-ec478ddfc7f8"
      },
      "execution_count": null,
      "outputs": [
        {
          "output_type": "stream",
          "name": "stdout",
          "text": [
            "Original list: [1, 2, 3, 4, 5]\n",
            "The last 2 elements of the list are: [4, 5]\n"
          ]
        }
      ]
    },
    {
      "cell_type": "markdown",
      "source": [
        "7. Extract Elements in Reverse Order:\n",
        "Write a Python function that extracts a list of elements in reverse order starting from the second-to-last\n",
        "element and skipping one element in between."
      ],
      "metadata": {
        "id": "aKlevXPkGcg2"
      }
    },
    {
      "cell_type": "code",
      "source": [
        "def reverse_skip(lst):\n",
        "    \"\"\"\n",
        "    Extracts elements in reverse order starting from the second-to-last element and skipping one element in between.\n",
        "\n",
        "    Parameters:\n",
        "    lst is the input list.\n",
        "\n",
        "    Returns:\n",
        "    list is a new list containing every second element starting from the second-to-last, moving backward.\n",
        "    \"\"\"\n",
        "    return lst[-2::-2]\n",
        "\n",
        "input_list = [1, 2, 3, 4, 5, 6]\n",
        "output_list = reverse_skip(input_list)\n",
        "\n",
        "print(\"Original list:\", input_list)\n",
        "print(\"Extracted elements in reverse order (skipping one):\", output_list)\n"
      ],
      "metadata": {
        "colab": {
          "base_uri": "https://localhost:8080/"
        },
        "id": "Soyvprz8Gg7G",
        "outputId": "07bf3db6-242b-4e64-e68e-733d60200c0c"
      },
      "execution_count": null,
      "outputs": [
        {
          "output_type": "stream",
          "name": "stdout",
          "text": [
            "Original list: [1, 2, 3, 4, 5, 6]\n",
            "Extracted elements in reverse order (skipping one): [5, 3, 1]\n"
          ]
        }
      ]
    },
    {
      "cell_type": "markdown",
      "source": [
        "# 3. Exercise on Nested List"
      ],
      "metadata": {
        "id": "cV94eheoGmIu"
      }
    },
    {
      "cell_type": "markdown",
      "source": [
        "1. Flatten a Nested List:\n",
        "Write a Python function that takes a nested list and flattens it into a single list, where all the elements\n",
        "are in a single dimension."
      ],
      "metadata": {
        "id": "OtvositzGpff"
      }
    },
    {
      "cell_type": "code",
      "source": [
        "def flatten(lst):\n",
        "    \"\"\"\n",
        "    Flattens a nested list into a single list.\n",
        "\n",
        "    Parameters:\n",
        "    lst is the nested list to be flattened.\n",
        "\n",
        "    Returns:\n",
        "    list is a flattened version of the input list.\n",
        "    \"\"\"\n",
        "    flattened_list = []\n",
        "    for sublist in lst:\n",
        "        flattened_list.extend(sublist)\n",
        "    return flattened_list\n",
        "\n",
        "nested_list = [[1, 2], [3, 4], [5]]\n",
        "flattened_list = flatten(nested_list)\n",
        "\n",
        "print(\"Original nested list:\", nested_list)\n",
        "print(\"Flattened list:\", flattened_list)\n"
      ],
      "metadata": {
        "colab": {
          "base_uri": "https://localhost:8080/"
        },
        "id": "p-c5xWb0GrC3",
        "outputId": "30efefe5-d582-4269-c7ca-6e43d4366916"
      },
      "execution_count": null,
      "outputs": [
        {
          "output_type": "stream",
          "name": "stdout",
          "text": [
            "Original nested list: [[1, 2], [3, 4], [5]]\n",
            "Flattened list: [1, 2, 3, 4, 5]\n"
          ]
        }
      ]
    },
    {
      "cell_type": "markdown",
      "source": [
        "2. Accessing Nested List Elements:\n",
        "Write a Python function that extracts a specific element from a nested list given its indices."
      ],
      "metadata": {
        "id": "LAhb5Of8Gylo"
      }
    },
    {
      "cell_type": "code",
      "source": [
        "def access_nested_element(lst, indices):\n",
        "    \"\"\"\n",
        "    Extracts a specific element from a nested list given its indices.\n",
        "\n",
        "    Parameters:\n",
        "    lst (list) is the nested list.\n",
        "    indices (list of int) is a list of indices representing the position of the desired element.\n",
        "\n",
        "    Returns:\n",
        "    The element at the specified position in the nested list.\n",
        "    \"\"\"\n",
        "    element = lst\n",
        "    for index in indices:\n",
        "        element = element[index]\n",
        "    return element\n",
        "\n",
        "nested_list = [[1, 2, 3], [4, 5, 6], [7, 8, 9]]\n",
        "indices = [1, 2]\n",
        "result = access_nested_element(nested_list, indices)\n",
        "\n",
        "print(\"Nested list:\", nested_list)\n",
        "print(\"Indices:\", indices)\n",
        "print(\"Element at the specified position:\", result)\n"
      ],
      "metadata": {
        "colab": {
          "base_uri": "https://localhost:8080/"
        },
        "id": "CUoquCnBGy7Y",
        "outputId": "1b39fde4-5730-4cd1-8567-500090ee04b7"
      },
      "execution_count": null,
      "outputs": [
        {
          "output_type": "stream",
          "name": "stdout",
          "text": [
            "Nested list: [[1, 2, 3], [4, 5, 6], [7, 8, 9]]\n",
            "Indices: [1, 2]\n",
            "Element at the specified position: 6\n"
          ]
        }
      ]
    },
    {
      "cell_type": "markdown",
      "source": [
        "3. Sum of All Elements in a Nested List:\n",
        "Write a Python function that calculates the sum of all the numbers in a nested list (regardless of depth)."
      ],
      "metadata": {
        "id": "uTMh1I5UG5LJ"
      }
    },
    {
      "cell_type": "code",
      "source": [
        "def sum_nested(lst):\n",
        "    \"\"\"\n",
        "    Calculates the sum of all the numbers in a nested list, regardless of depth.\n",
        "\n",
        "    Parameters:\n",
        "    lst (list) is the nested list containing numbers.\n",
        "\n",
        "    Returns:\n",
        "    The sum of all numbers in the nested list.\n",
        "    \"\"\"\n",
        "    total = 0\n",
        "    for element in lst:\n",
        "        if isinstance(element, list):\n",
        "            total += sum_nested(element)\n",
        "        else:\n",
        "            total += element\n",
        "    return total\n",
        "\n",
        "nested_list = [[1, 2], [3, [4, 5]], 6]\n",
        "result = sum_nested(nested_list)\n",
        "\n",
        "print(\"Nested list:\", nested_list)\n",
        "print(\"Sum of all elements:\", result)\n"
      ],
      "metadata": {
        "colab": {
          "base_uri": "https://localhost:8080/"
        },
        "id": "6GPJS3uLG7zB",
        "outputId": "6d0da3b2-97b3-4f01-db76-c0317d252392"
      },
      "execution_count": null,
      "outputs": [
        {
          "output_type": "stream",
          "name": "stdout",
          "text": [
            "Nested list: [[1, 2], [3, [4, 5]], 6]\n",
            "Sum of all elements: 21\n"
          ]
        }
      ]
    },
    {
      "cell_type": "markdown",
      "source": [
        "4. Remove Specific Element from a Nested List:\n",
        "Write a Python function that removes all occurrences of a specific element from a nested list.\n"
      ],
      "metadata": {
        "id": "pjfJLL58HJwr"
      }
    },
    {
      "cell_type": "code",
      "source": [
        "def remove_element(lst, elem):\n",
        "    \"\"\"\n",
        "    Removes all occurrences of a specific element from a nested list.\n",
        "\n",
        "    Parameters:\n",
        "    lst (list) is the nested list.\n",
        "    elem (Any) is the element to be removed.\n",
        "\n",
        "    Returns:\n",
        "    list is the modified list with the specified element removed.\n",
        "    \"\"\"\n",
        "    modified_list = []\n",
        "    for sublist in lst:\n",
        "        if isinstance(sublist, list):\n",
        "            modified_list.append(remove_element(sublist, elem))\n",
        "        else:\n",
        "            if sublist != elem:\n",
        "                modified_list.append(sublist)\n",
        "    return modified_list\n",
        "\n",
        "nested_list = [[1, 2], [3, 2], [4, 5]]\n",
        "element_to_remove = 2\n",
        "result = remove_element(nested_list, element_to_remove)\n",
        "\n",
        "print(\"Original nested list:\", nested_list)\n",
        "print(f\"Nested list after removing {element_to_remove}:\", result)\n"
      ],
      "metadata": {
        "colab": {
          "base_uri": "https://localhost:8080/"
        },
        "id": "QHX7E7EGHL9z",
        "outputId": "fd72fe6e-4238-4a54-9d09-a7f035c2e32b"
      },
      "execution_count": null,
      "outputs": [
        {
          "output_type": "stream",
          "name": "stdout",
          "text": [
            "Original nested list: [[1, 2], [3, 2], [4, 5]]\n",
            "Nested list after removing 2: [[1], [3], [4, 5]]\n"
          ]
        }
      ]
    },
    {
      "cell_type": "markdown",
      "source": [
        "5. Find the Maximum Element in a Nested List:\n",
        "Write a Python function that finds the maximum element in a nested list (regardless of depth)."
      ],
      "metadata": {
        "id": "ZXqUfNXaHUSU"
      }
    },
    {
      "cell_type": "code",
      "source": [
        "def find_max(lst):\n",
        "    \"\"\"\n",
        "    Finds the maximum element in a nested list, regardless of depth.\n",
        "\n",
        "    Parameters:\n",
        "    lst (list) is the nested list containing elements.\n",
        "\n",
        "    Returns:\n",
        "    int/float is the maximum element in the nested list.\n",
        "    \"\"\"\n",
        "    max_element = float('-inf')\n",
        "    for element in lst:\n",
        "        if isinstance(element, list):\n",
        "            max_element = max(max_element, find_max(element))\n",
        "        else:\n",
        "            max_element = max(max_element, element)\n",
        "    return max_element\n",
        "\n",
        "nested_list = [[1, 2], [3, [4, 5]], 6]\n",
        "result = find_max(nested_list)\n",
        "\n",
        "print(\"Nested list:\", nested_list)\n",
        "print(\"Maximum element:\", result)\n"
      ],
      "metadata": {
        "colab": {
          "base_uri": "https://localhost:8080/"
        },
        "id": "NhI0HbICHU30",
        "outputId": "5df1bcb5-2b8f-43d0-f20c-2b36eddcb52e"
      },
      "execution_count": null,
      "outputs": [
        {
          "output_type": "stream",
          "name": "stdout",
          "text": [
            "Nested list: [[1, 2], [3, [4, 5]], 6]\n",
            "Maximum element: 6\n"
          ]
        }
      ]
    },
    {
      "cell_type": "markdown",
      "source": [
        "6. Count Occurrences of an Element in a Nested List:\n",
        "Write a Python function that counts how many times a specific element appears in a nested list."
      ],
      "metadata": {
        "id": "M2iem7hRHb4c"
      }
    },
    {
      "cell_type": "code",
      "source": [
        "def count_occurrences(lst, elem):\n",
        "    \"\"\"\n",
        "    Counts how many times a specific element appears in a nested list.\n",
        "\n",
        "    Parameters:\n",
        "    lst (list) is the nested list to search.\n",
        "    elem (Any) is the element to count.\n",
        "\n",
        "    Returns:\n",
        "    The count of occurrences of the element in the nested list.\n",
        "    \"\"\"\n",
        "    count = 0\n",
        "    for item in lst:\n",
        "        if isinstance(item, list):\n",
        "            count += count_occurrences(item, elem)\n",
        "        else:\n",
        "            if item == elem:\n",
        "                count += 1\n",
        "    return count\n",
        "\n",
        "nested_list = [[1, 2], [2, 3], [2, 4]]\n",
        "element_to_count = 2\n",
        "result = count_occurrences(nested_list, element_to_count)\n",
        "\n",
        "print(\"Nested list:\", nested_list)\n",
        "print(f\"Element {element_to_count} occurs {result} times.\")\n"
      ],
      "metadata": {
        "colab": {
          "base_uri": "https://localhost:8080/"
        },
        "id": "OgHD611SHd8l",
        "outputId": "3d175edb-f5ab-4d91-9aec-8072120ab91f"
      },
      "execution_count": null,
      "outputs": [
        {
          "output_type": "stream",
          "name": "stdout",
          "text": [
            "Nested list: [[1, 2], [2, 3], [2, 4]]\n",
            "Element 2 occurs 3 times.\n"
          ]
        }
      ]
    },
    {
      "cell_type": "markdown",
      "source": [
        "7. Flatten a List of Lists of Lists:\n",
        "Write a Python function that flattens a list of lists of lists into a single list, regardless of the depth."
      ],
      "metadata": {
        "id": "92aw-xdwHri-"
      }
    },
    {
      "cell_type": "code",
      "source": [
        "def deep_flatten(lst):\n",
        "    \"\"\"\n",
        "    Flattens a deeply nested list into a single list.\n",
        "\n",
        "    Parameters:\n",
        "    lst (list) is the deeply nested list to flatten.\n",
        "\n",
        "    Returns:\n",
        "    A single flattened list containing all the elements of the input list.\n",
        "    \"\"\"\n",
        "    flattened_list = []\n",
        "    for element in lst:\n",
        "        if isinstance(element, list):\n",
        "\n",
        "            flattened_list.extend(deep_flatten(element))\n",
        "        else:\n",
        "            flattened_list.append(element)\n",
        "    return flattened_list\n",
        "\n",
        "nested_list = [[[1, 2], [3, 4]], [[5, 6], [7, 8]]]\n",
        "result = deep_flatten(nested_list)\n",
        "\n",
        "print(\"Original nested list:\", nested_list)\n",
        "print(\"Flattened list:\", result)\n"
      ],
      "metadata": {
        "colab": {
          "base_uri": "https://localhost:8080/"
        },
        "id": "1JorV12eHr83",
        "outputId": "368ec007-ee83-4de2-cc0d-85763a0a2fdf"
      },
      "execution_count": null,
      "outputs": [
        {
          "output_type": "stream",
          "name": "stdout",
          "text": [
            "Original nested list: [[[1, 2], [3, 4]], [[5, 6], [7, 8]]]\n",
            "Flattened list: [1, 2, 3, 4, 5, 6, 7, 8]\n"
          ]
        }
      ]
    },
    {
      "cell_type": "markdown",
      "source": [
        "8. Nested List Average:\n",
        "Write a Python function that calculates the average of all elements in a nested list."
      ],
      "metadata": {
        "id": "H40dZ20yH1Y_"
      }
    },
    {
      "cell_type": "code",
      "source": [
        "def average_nested(lst):\n",
        "    \"\"\"\n",
        "    Calculates the average of all elements in a nested list.\n",
        "\n",
        "    Parameters:\n",
        "    lst (list) is the nested list containing numerical elements.\n",
        "\n",
        "    Returns:\n",
        "    float is the average of all elements in the nested list.\n",
        "    \"\"\"\n",
        "    def flatten_and_sum(lst):\n",
        "        \"\"\"\n",
        "        Flattens a nested list and calculates the sum and count of all elements.\n",
        "\n",
        "        Parameters:\n",
        "        lst (list) is the nested list to process.\n",
        "\n",
        "        Returns:\n",
        "        tuple is a tuple containing the sum of all elements and the count of elements.\n",
        "        \"\"\"\n",
        "        total_sum = 0\n",
        "        count = 0\n",
        "        for element in lst:\n",
        "            if isinstance(element, list):\n",
        "                sub_sum, sub_count = flatten_and_sum(element)\n",
        "                total_sum += sub_sum\n",
        "                count += sub_count\n",
        "            else:\n",
        "                total_sum += element\n",
        "                count += 1\n",
        "        return total_sum, count\n",
        "\n",
        "    #flatten the list to get the total sum and count\n",
        "    total_sum, count = flatten_and_sum(lst)\n",
        "    return total_sum / count if count != 0 else 0\n",
        "\n",
        "nested_list = [[1, 2], [3, 4], [5, 6]]\n",
        "result = average_nested(nested_list)\n",
        "\n",
        "print(\"Nested list:\", nested_list)\n",
        "print(\"Average of all elements:\", result)\n"
      ],
      "metadata": {
        "colab": {
          "base_uri": "https://localhost:8080/"
        },
        "id": "Xfoxper0H1sn",
        "outputId": "e2abfc9a-d862-4d2c-ece8-7a51e78ff15c"
      },
      "execution_count": null,
      "outputs": [
        {
          "output_type": "stream",
          "name": "stdout",
          "text": [
            "Nested list: [[1, 2], [3, 4], [5, 6]]\n",
            "Average of all elements: 3.5\n"
          ]
        }
      ]
    },
    {
      "cell_type": "markdown",
      "source": [
        "# 4. Basic Vector and Matrix Operation with Numpy."
      ],
      "metadata": {
        "id": "-ov0awknIlh9"
      }
    },
    {
      "cell_type": "markdown",
      "source": [
        "Problem - 1: Array Creation"
      ],
      "metadata": {
        "id": "qfI34zmvInrF"
      }
    },
    {
      "cell_type": "code",
      "source": [
        "import numpy as np\n",
        "#1: Initialize an empty array with size 2x2\n",
        "empty_array = np.empty((2, 2))\n",
        "print(\"Empty array (2x2):\\n\", empty_array)\n",
        "\n",
        "#2: Initialize an all-one array with size 4x2\n",
        "ones_array = np.ones((4, 2))\n",
        "print(\"\\nAll-ones array (4x2):\\n\", ones_array)\n",
        "\n",
        "#3: Return a new array of given shape and type, filled with a fill value\n",
        "fill_value = 7\n",
        "filled_array = np.full((3, 3), fill_value)\n",
        "print(\"\\nArray filled with value\", fill_value, \":\\n\", filled_array)\n",
        "\n",
        "#4: Return a new array of zeros with same shape and type as a given array\n",
        "reference_array = np.array([[1, 2, 3], [4, 5, 6]])\n",
        "zeros_like_array = np.zeros_like(reference_array)\n",
        "print(\"\\nArray of zeros with the same shape and type as reference array:\\n\", zeros_like_array)\n",
        "\n",
        "#5: Return a new array of ones with same shape and type as a given array\n",
        "ones_like_array = np.ones_like(reference_array)\n",
        "print(\"\\nArray of ones with the same shape and type as reference array:\\n\", ones_like_array)\n",
        "\n",
        "#6: Convert an existing list to a NumPy array\n",
        "new_list = [1, 2, 3, 4]\n",
        "numpy_array = np.array(new_list)\n",
        "print(\"\\nConverted NumPy array from new_list:\\n\", numpy_array)\n"
      ],
      "metadata": {
        "colab": {
          "base_uri": "https://localhost:8080/"
        },
        "id": "2YVAj837InU9",
        "outputId": "edaacc95-8d2a-4819-e4b1-eedbbb768d55"
      },
      "execution_count": null,
      "outputs": [
        {
          "output_type": "stream",
          "name": "stdout",
          "text": [
            "Empty array (2x2):\n",
            " [[3.22844301e-316 0.00000000e+000]\n",
            " [0.00000000e+000 1.16304933e+214]]\n",
            "\n",
            "All-ones array (4x2):\n",
            " [[1. 1.]\n",
            " [1. 1.]\n",
            " [1. 1.]\n",
            " [1. 1.]]\n",
            "\n",
            "Array filled with value 7 :\n",
            " [[7 7 7]\n",
            " [7 7 7]\n",
            " [7 7 7]]\n",
            "\n",
            "Array of zeros with the same shape and type as reference array:\n",
            " [[0 0 0]\n",
            " [0 0 0]]\n",
            "\n",
            "Array of ones with the same shape and type as reference array:\n",
            " [[1 1 1]\n",
            " [1 1 1]]\n",
            "\n",
            "Converted NumPy array from new_list:\n",
            " [1 2 3 4]\n"
          ]
        }
      ]
    },
    {
      "cell_type": "markdown",
      "source": [
        "Problem - 2: Array Manipulation: Numerical Ranges and Array indexing"
      ],
      "metadata": {
        "id": "oNcovIbuJUSi"
      }
    },
    {
      "cell_type": "code",
      "source": [
        "import numpy as np\n",
        "\n",
        "#1: Create an array with values ranging from 10 to 49\n",
        "array_10_to_49 = np.arange(10, 50)\n",
        "print(\"Array with values ranging from 10 to 49:\\n\", array_10_to_49)\n",
        "\n",
        "#2: Create a 3x3 matrix with values ranging from 0 to 8\n",
        "matrix_0_to_8 = np.arange(9).reshape(3, 3)\n",
        "print(\"\\n3x3 Matrix with values from 0 to 8:\\n\", matrix_0_to_8)\n",
        "\n",
        "#3: Create a 3x3 identity matrix\n",
        "identity_matrix = np.eye(3)\n",
        "print(\"\\n3x3 Identity Matrix:\\n\", identity_matrix)\n",
        "\n",
        "#4: Create a random array of size 30 and find the mean\n",
        "random_array = np.random.random(30)\n",
        "mean_value = random_array.mean()\n",
        "print(\"\\nRandom array of size 30:\\n\", random_array)\n",
        "print(\"Mean of the array:\", mean_value)\n",
        "\n",
        "#5: Create a 10x10 array with random values and find the min and max\n",
        "random_10x10 = np.random.random((10, 10))\n",
        "min_value = random_10x10.min()\n",
        "max_value = random_10x10.max()\n",
        "print(\"\\n10x10 Array with random values:\\n\", random_10x10)\n",
        "print(\"Minimum value:\", min_value)\n",
        "print(\"Maximum value:\", max_value)\n",
        "\n",
        "#6: Create a zero array of size 10 and replace 5th element with 1\n",
        "zero_array = np.zeros(10)\n",
        "zero_array[4] = 1\n",
        "print(\"\\nZero array with 5th element replaced by 1:\\n\", zero_array)\n",
        "\n",
        "#7: Reverse an array [1, 2, 0, 0, 4, 0]\n",
        "arr = np.array([1, 2, 0, 0, 4, 0])\n",
        "reversed_array = arr[::-1]\n",
        "print(\"\\nReversed array:\\n\", reversed_array)\n",
        "\n",
        "#8: Create a 2D array with 1 on the border and 0 inside\n",
        "border_array = np.ones((6, 6))\n",
        "border_array[1:-1, 1:-1] = 0\n",
        "print(\"\\n2D Array with border of 1 and inside 0:\\n\", border_array)\n",
        "\n",
        "#9: Create an 8x8 matrix and fill it with a checkerboard pattern\n",
        "checkerboard = np.zeros((8, 8), dtype=int)\n",
        "checkerboard[1::2, ::2] = 1\n",
        "checkerboard[::2, 1::2] = 1\n",
        "print(\"\\n8x8 Checkerboard Pattern:\\n\", checkerboard)\n"
      ],
      "metadata": {
        "colab": {
          "base_uri": "https://localhost:8080/"
        },
        "id": "v1e0ZOqXJVvy",
        "outputId": "ea26fb2a-c3a3-48ba-ef68-0141967d0cbe"
      },
      "execution_count": null,
      "outputs": [
        {
          "output_type": "stream",
          "name": "stdout",
          "text": [
            "Array with values ranging from 10 to 49:\n",
            " [10 11 12 13 14 15 16 17 18 19 20 21 22 23 24 25 26 27 28 29 30 31 32 33\n",
            " 34 35 36 37 38 39 40 41 42 43 44 45 46 47 48 49]\n",
            "\n",
            "3x3 Matrix with values from 0 to 8:\n",
            " [[0 1 2]\n",
            " [3 4 5]\n",
            " [6 7 8]]\n",
            "\n",
            "3x3 Identity Matrix:\n",
            " [[1. 0. 0.]\n",
            " [0. 1. 0.]\n",
            " [0. 0. 1.]]\n",
            "\n",
            "Random array of size 30:\n",
            " [0.74072474 0.62588933 0.31289956 0.30324031 0.23670024 0.52761616\n",
            " 0.13642736 0.60497534 0.44251472 0.36898918 0.28247489 0.31261924\n",
            " 0.90667892 0.93068095 0.92028499 0.07132413 0.71600985 0.28724413\n",
            " 0.56370525 0.86221761 0.30117232 0.15919072 0.8512503  0.68874303\n",
            " 0.75980247 0.22425474 0.47130558 0.4772368  0.30525205 0.75418181]\n",
            "Mean of the array: 0.504853557283383\n",
            "\n",
            "10x10 Array with random values:\n",
            " [[0.6948934  0.04441311 0.57742123 0.56605872 0.25288577 0.18604591\n",
            "  0.07470038 0.51694477 0.65672935 0.57416073]\n",
            " [0.8396701  0.93274103 0.11453205 0.37727352 0.59924841 0.66233318\n",
            "  0.94872406 0.76940143 0.40258039 0.96539534]\n",
            " [0.03907071 0.66488663 0.70080038 0.2960713  0.89472842 0.95948503\n",
            "  0.99844883 0.07247283 0.60228869 0.8575951 ]\n",
            " [0.44985971 0.17040859 0.150653   0.7181769  0.51161843 0.11513968\n",
            "  0.00518529 0.39049507 0.52852803 0.12233839]\n",
            " [0.40237883 0.75112043 0.29894076 0.91036754 0.68337611 0.69055744\n",
            "  0.09256963 0.20642095 0.91056285 0.23348268]\n",
            " [0.36579928 0.86568164 0.90367079 0.33546955 0.30353833 0.0257345\n",
            "  0.95928231 0.36845817 0.88555547 0.06847608]\n",
            " [0.6029142  0.68495347 0.83127719 0.71474889 0.12938989 0.76256737\n",
            "  0.54121922 0.78441892 0.24835184 0.76588017]\n",
            " [0.58476529 0.93126715 0.98034495 0.70315505 0.7627208  0.51153936\n",
            "  0.95209447 0.15371419 0.39299984 0.77280207]\n",
            " [0.24488432 0.89465562 0.60404972 0.26022377 0.88771448 0.65814616\n",
            "  0.56932694 0.5590881  0.02071448 0.22406279]\n",
            " [0.49423606 0.73305507 0.17867681 0.13746442 0.50116467 0.95276307\n",
            "  0.02939176 0.20811431 0.50932993 0.88067724]]\n",
            "Minimum value: 0.005185286498581743\n",
            "Maximum value: 0.9984488284192148\n",
            "\n",
            "Zero array with 5th element replaced by 1:\n",
            " [0. 0. 0. 0. 1. 0. 0. 0. 0. 0.]\n",
            "\n",
            "Reversed array:\n",
            " [0 4 0 0 2 1]\n",
            "\n",
            "2D Array with border of 1 and inside 0:\n",
            " [[1. 1. 1. 1. 1. 1.]\n",
            " [1. 0. 0. 0. 0. 1.]\n",
            " [1. 0. 0. 0. 0. 1.]\n",
            " [1. 0. 0. 0. 0. 1.]\n",
            " [1. 0. 0. 0. 0. 1.]\n",
            " [1. 1. 1. 1. 1. 1.]]\n",
            "\n",
            "8x8 Checkerboard Pattern:\n",
            " [[0 1 0 1 0 1 0 1]\n",
            " [1 0 1 0 1 0 1 0]\n",
            " [0 1 0 1 0 1 0 1]\n",
            " [1 0 1 0 1 0 1 0]\n",
            " [0 1 0 1 0 1 0 1]\n",
            " [1 0 1 0 1 0 1 0]\n",
            " [0 1 0 1 0 1 0 1]\n",
            " [1 0 1 0 1 0 1 0]]\n"
          ]
        }
      ]
    },
    {
      "cell_type": "markdown",
      "source": [
        "Problem - 3: Array Operations"
      ],
      "metadata": {
        "id": "KkQMR5mCKJFY"
      }
    },
    {
      "cell_type": "code",
      "source": [
        "import numpy as np\n",
        "\n",
        "x = np.array([[1, 2], [3, 5]])\n",
        "y = np.array([[5, 6], [7, 8]])\n",
        "v = np.array([9, 10])\n",
        "w = np.array([11, 12])\n",
        "\n",
        "#1: Add the two arrays (x and y)\n",
        "add_xy = x + y\n",
        "print(\"Addition of x and y:\\n\", add_xy)\n",
        "\n",
        "#2: Subtract the two arrays (x and y)\n",
        "subtract_xy = x - y\n",
        "print(\"\\nSubtraction of x and y:\\n\", subtract_xy)\n",
        "\n",
        "#3: Multiply the array (x) with an integer of your choice (e.g., 2)\n",
        "multiply_x = x * 2\n",
        "print(\"\\nMultiplication of x with 2:\\n\", multiply_x)\n",
        "\n",
        "#4: Find the square of each element of the array (x)\n",
        "square_x = np.square(x)\n",
        "print(\"\\nSquare of each element in x:\\n\", square_x)\n",
        "\n",
        "#5: Find the dot products\n",
        "dot_vw = np.dot(v, w)\n",
        "dot_xv = np.dot(x, v)\n",
        "dot_xy = np.dot(x, y)\n",
        "print(\"\\nDot product of v and w:\", dot_vw)\n",
        "print(\"Dot product of x and v:\\n\", dot_xv)\n",
        "print(\"Dot product of x and y:\\n\", dot_xy)\n",
        "\n",
        "#6: Concatenate x and y along rows; Concatenate v and w along columns\n",
        "concat_xy_rows = np.concatenate((x, y), axis=0)\n",
        "concat_vw_columns = np.vstack((v, w))\n",
        "print(\"\\nConcatenate x and y along rows:\\n\", concat_xy_rows)\n",
        "print(\"Concatenate v and w along columns:\\n\", concat_vw_columns)\n",
        "\n",
        "#7: Concatenate x and v\n",
        "try:\n",
        "    concat_xv = np.concatenate((x, v), axis=0)\n",
        "    print(\"\\nConcatenate x and v along rows:\\n\", concat_xv)\n",
        "except ValueError as e:\n",
        "    print(\"\\nError when concatenating x and v:\", e)\n",
        "    print(\"Explanation: The dimensions of x (2x2) and v (1x2) are incompatible for concatenation along rows. \")"
      ],
      "metadata": {
        "colab": {
          "base_uri": "https://localhost:8080/"
        },
        "id": "Enzsc5ycKJyQ",
        "outputId": "49bd75f9-9042-4804-fbdb-95ce02720838"
      },
      "execution_count": null,
      "outputs": [
        {
          "output_type": "stream",
          "name": "stdout",
          "text": [
            "Addition of x and y:\n",
            " [[ 6  8]\n",
            " [10 13]]\n",
            "\n",
            "Subtraction of x and y:\n",
            " [[-4 -4]\n",
            " [-4 -3]]\n",
            "\n",
            "Multiplication of x with 2:\n",
            " [[ 2  4]\n",
            " [ 6 10]]\n",
            "\n",
            "Square of each element in x:\n",
            " [[ 1  4]\n",
            " [ 9 25]]\n",
            "\n",
            "Dot product of v and w: 219\n",
            "Dot product of x and v:\n",
            " [29 77]\n",
            "Dot product of x and y:\n",
            " [[19 22]\n",
            " [50 58]]\n",
            "\n",
            "Concatenate x and y along rows:\n",
            " [[1 2]\n",
            " [3 5]\n",
            " [5 6]\n",
            " [7 8]]\n",
            "Concatenate v and w along columns:\n",
            " [[ 9 10]\n",
            " [11 12]]\n",
            "\n",
            "Error when concatenating x and v: all the input arrays must have same number of dimensions, but the array at index 0 has 2 dimension(s) and the array at index 1 has 1 dimension(s)\n",
            "Explanation: The dimensions of x (2x2) and v (1x2) are incompatible for concatenation along rows. \n"
          ]
        }
      ]
    },
    {
      "cell_type": "markdown",
      "source": [
        "Problem - 4: Matrix Operations"
      ],
      "metadata": {
        "id": "o4U0eIawLIBH"
      }
    },
    {
      "cell_type": "markdown",
      "source": [
        "Part 1"
      ],
      "metadata": {
        "id": "BZZbU-_oLjaS"
      }
    },
    {
      "cell_type": "code",
      "source": [
        "import numpy as np\n",
        "\n",
        "A = np.array([[3, 4], [7, 8]])\n",
        "B = np.array([[5, 3], [2, 1]])\n",
        "\n",
        "#1: Prove A * A^-1 = I\n",
        "A_inv = np.linalg.inv(A)\n",
        "identity_matrix = np.dot(A, A_inv)\n",
        "print(\"A * A^-1 (Identity Matrix):\\n\", np.round(identity_matrix, decimals=6))\n",
        "\n",
        "#2: Prove AB ≠ BA\n",
        "AB = np.dot(A, B)\n",
        "BA = np.dot(B, A)\n",
        "print(\"\\nMatrix AB:\\n\", AB)\n",
        "print(\"\\nMatrix BA:\\n\", BA)\n",
        "print(\"\\nAre AB and BA equal?\", np.array_equal(AB, BA))\n",
        "\n",
        "#3: Prove (AB)^T = B^T A^T\n",
        "AB_T = np.transpose(AB)\n",
        "BT_AT = np.dot(np.transpose(B), np.transpose(A))\n",
        "print(\"\\n(AB)^T:\\n\", AB_T)\n",
        "print(\"\\nB^T * A^T:\\n\", BT_AT)\n",
        "print(\"\\nIs (AB)^T equal to B^T * A^T?\", np.array_equal(np.round(AB_T, decimals=6), np.round(BT_AT, decimals=6)))\n"
      ],
      "metadata": {
        "colab": {
          "base_uri": "https://localhost:8080/"
        },
        "id": "b6h9d9R9LIr_",
        "outputId": "fdcf1b7b-43f9-4ab3-d49c-30e5048ff9d4"
      },
      "execution_count": null,
      "outputs": [
        {
          "output_type": "stream",
          "name": "stdout",
          "text": [
            "A * A^-1 (Identity Matrix):\n",
            " [[1. 0.]\n",
            " [0. 1.]]\n",
            "\n",
            "Matrix AB:\n",
            " [[23 13]\n",
            " [51 29]]\n",
            "\n",
            "Matrix BA:\n",
            " [[36 44]\n",
            " [13 16]]\n",
            "\n",
            "Are AB and BA equal? False\n",
            "\n",
            "(AB)^T:\n",
            " [[23 51]\n",
            " [13 29]]\n",
            "\n",
            "B^T * A^T:\n",
            " [[23 51]\n",
            " [13 29]]\n",
            "\n",
            "Is (AB)^T equal to B^T * A^T? True\n"
          ]
        }
      ]
    },
    {
      "cell_type": "markdown",
      "source": [
        "Part 2"
      ],
      "metadata": {
        "id": "pH9AsfxFLn9i"
      }
    },
    {
      "cell_type": "code",
      "source": [
        "A = np.array([[2, -3, 1], [1, -1, 2], [3, 1, -1]])\n",
        "B = np.array([-1, -3, 9])\n",
        "\n",
        "#X using the inverse method\n",
        "A_inv = np.linalg.inv(A)\n",
        "X = np.dot(A_inv, B)\n",
        "print(\"\\nSolution for the system of equations (X):\\n\", X)\n"
      ],
      "metadata": {
        "colab": {
          "base_uri": "https://localhost:8080/"
        },
        "id": "rzTVWp8-LpHi",
        "outputId": "3dab72d7-059d-4541-eeee-7d9d3e0a1def"
      },
      "execution_count": null,
      "outputs": [
        {
          "output_type": "stream",
          "name": "stdout",
          "text": [
            "\n",
            "Solution for the system of equations (X):\n",
            " [ 2.  1. -2.]\n"
          ]
        }
      ]
    },
    {
      "cell_type": "markdown",
      "source": [
        "# 5. Experiment: How Fast is Numpy?"
      ],
      "metadata": {
        "id": "lU7L4kTRMlCJ"
      }
    },
    {
      "cell_type": "markdown",
      "source": [
        "1. Element-wise Addition"
      ],
      "metadata": {
        "id": "T3t0x5neMzFr"
      }
    },
    {
      "cell_type": "code",
      "source": [
        "import time\n",
        "list1 = [i for i in range(1, 1000001)]\n",
        "list2 = [i for i in range(1000001, 2000001)]\n",
        "\n",
        "start_time = time.time()\n",
        "result = [list1[i] + list2[i] for i in range(1000000)]\n",
        "end_time = time.time()\n",
        "print(f\"Time taken for element-wise addition: {end_time - start_time} seconds\")"
      ],
      "metadata": {
        "colab": {
          "base_uri": "https://localhost:8080/"
        },
        "id": "dUx3gpNCMowi",
        "outputId": "b134d753-8d8a-4d8a-b10f-e100fc4d0734"
      },
      "execution_count": null,
      "outputs": [
        {
          "output_type": "stream",
          "name": "stdout",
          "text": [
            "Time taken for element-wise addition: 0.08252382278442383 seconds\n"
          ]
        }
      ]
    },
    {
      "cell_type": "code",
      "source": [
        "import numpy as np\n",
        "import time\n",
        "\n",
        "array1 = np.arange(1, 1000001)\n",
        "array2 = np.arange(1000001, 2000001)\n",
        "\n",
        "start_time = time.time()\n",
        "result = array1 + array2\n",
        "end_time = time.time()\n",
        "print(f\"Time taken for element-wise addition with NumPy: {end_time - start_time} seconds\")"
      ],
      "metadata": {
        "colab": {
          "base_uri": "https://localhost:8080/"
        },
        "id": "2QBNtVz7PPPU",
        "outputId": "7352bf2f-6572-4a94-c0d9-11a31e458264"
      },
      "execution_count": null,
      "outputs": [
        {
          "output_type": "stream",
          "name": "stdout",
          "text": [
            "Time taken for element-wise addition with NumPy: 0.006112098693847656 seconds\n"
          ]
        }
      ]
    },
    {
      "cell_type": "markdown",
      "source": [
        "2. Element-wise Multiplication"
      ],
      "metadata": {
        "id": "dKVDwkpaOzWJ"
      }
    },
    {
      "cell_type": "code",
      "source": [
        "import time\n",
        "import numpy as np\n",
        "\n",
        "size = 1_000_000\n",
        "\n",
        "list1 = [i for i in range(size)]\n",
        "list2 = [i for i in range(size)]\n",
        "\n",
        "start_time = time.time()\n",
        "result_list = [list1[i] * list2[i] for i in range(size)]\n",
        "end_time = time.time()\n",
        "print(f\"Time taken using Python lists: {end_time - start_time:.6f} seconds\")\n",
        "\n",
        "array1 = np.arange(size)\n",
        "array2 = np.arange(size)\n",
        "\n",
        "result_array = array1 * array2\n",
        "end_time = time.time()\n",
        "print(f\"Time taken using NumPy arrays: {end_time - start_time:.6f} seconds\")\n"
      ],
      "metadata": {
        "colab": {
          "base_uri": "https://localhost:8080/"
        },
        "id": "RxuneE1aOztp",
        "outputId": "d11ef63e-497f-46a0-cd6a-4b324e0e8c8c"
      },
      "execution_count": null,
      "outputs": [
        {
          "output_type": "stream",
          "name": "stdout",
          "text": [
            "Time taken using Python lists: 0.084936 seconds\n",
            "Time taken using NumPy arrays: 0.007907 seconds\n"
          ]
        }
      ]
    },
    {
      "cell_type": "markdown",
      "source": [
        "3. Dot Product"
      ],
      "metadata": {
        "id": "iG42KPkZQ3Qv"
      }
    },
    {
      "cell_type": "code",
      "source": [
        "import time\n",
        "import numpy as np\n",
        "\n",
        "size = 1_000_000\n",
        "list1 = [i for i in range(size)]\n",
        "list2 = [i for i in range(size)]\n",
        "\n",
        "start_time = time.time()\n",
        "dot_product_list = sum(list1[i] * list2[i] for i in range(size))\n",
        "end_time = time.time()\n",
        "print(f\"Time taken using Python lists: {end_time - start_time:.6f} seconds\")\n",
        "\n",
        "array1 = np.arange(size)\n",
        "array2 = np.arange(size)\n",
        "\n",
        "start_time = time.time()\n",
        "dot_product_array = np.dot(array1, array2)\n",
        "end_time = time.time()\n",
        "print(f\"Time taken using NumPy arrays: {end_time - start_time:.6f} seconds\")\n"
      ],
      "metadata": {
        "colab": {
          "base_uri": "https://localhost:8080/"
        },
        "id": "IhxUWY3yQPH7",
        "outputId": "8b1ead6e-2756-4d2d-983a-e6359fb9501f"
      },
      "execution_count": null,
      "outputs": [
        {
          "output_type": "stream",
          "name": "stdout",
          "text": [
            "Time taken using Python lists: 0.247972 seconds\n",
            "Time taken using NumPy arrays: 0.001973 seconds\n"
          ]
        }
      ]
    },
    {
      "cell_type": "markdown",
      "source": [
        "4. Matrix Multiplication"
      ],
      "metadata": {
        "id": "75ks4cJrQ5Iv"
      }
    },
    {
      "cell_type": "code",
      "source": [
        "import time\n",
        "def matrix_multiply(A, B):\n",
        "    result = [[0] * len(B[0]) for _ in range(len(A))]\n",
        "    #matrix multiplication\n",
        "    for i in range(len(A)):\n",
        "        for j in range(len(B[0])):\n",
        "            for k in range(len(B)):\n",
        "                result[i][j] += A[i][k] * B[k][j]\n",
        "    return result\n",
        "\n",
        "matrix_A = [[1] * 1000 for _ in range(1000)]\n",
        "matrix_B = [[1] * 1000 for _ in range(1000)]\n",
        "\n",
        "start_time = time.time()\n",
        "#matrix multiplication\n",
        "result_matrix = matrix_multiply(matrix_A, matrix_B)\n",
        "end_time = time.time()\n",
        "print(f\"Time taken for matrix multiplication using Python lists: {end_time - start_time} seconds\")\n"
      ],
      "metadata": {
        "colab": {
          "base_uri": "https://localhost:8080/"
        },
        "id": "jTgk1ltNQ6df",
        "outputId": "1b0c380d-1107-4e26-f3c4-93a3aec59035"
      },
      "execution_count": null,
      "outputs": [
        {
          "output_type": "stream",
          "name": "stdout",
          "text": [
            "Time taken for matrix multiplication using Python lists: 129.408842086792 seconds\n"
          ]
        }
      ]
    },
    {
      "cell_type": "code",
      "source": [
        "import numpy as np\n",
        "import time\n",
        "\n",
        "matrix_A = np.ones((1000, 1000))\n",
        "matrix_B = np.ones((1000, 1000))\n",
        "\n",
        "start_time = time.time()\n",
        "\n",
        "#matrix multiplication using NumPy\n",
        "result_matrix = np.dot(matrix_A, matrix_B)\n",
        "end_time = time.time()\n",
        "print(f\"Time taken for matrix multiplication using NumPy: {end_time - start_time} seconds\")\n"
      ],
      "metadata": {
        "colab": {
          "base_uri": "https://localhost:8080/"
        },
        "id": "VzLnSN0nSKkJ",
        "outputId": "96d395de-6be5-4bd6-ca7b-f2c7b181ee36"
      },
      "execution_count": null,
      "outputs": [
        {
          "output_type": "stream",
          "name": "stdout",
          "text": [
            "Time taken for matrix multiplication using NumPy: 0.09435558319091797 seconds\n"
          ]
        }
      ]
    }
  ]
}